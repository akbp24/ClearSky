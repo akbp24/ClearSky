{
  "nbformat": 4,
  "nbformat_minor": 0,
  "metadata": {
    "colab": {
      "provenance": []
    },
    "kernelspec": {
      "name": "python3",
      "display_name": "Python 3"
    },
    "language_info": {
      "name": "python"
    }
  },
  "cells": [
    {
      "cell_type": "code",
      "execution_count": null,
      "metadata": {
        "colab": {
          "base_uri": "https://localhost:8080/",
          "height": 631
        },
        "id": "5FMA03UPoXWw",
        "outputId": "49f942ea-b71e-4f50-b958-40da798aa405"
      },
      "outputs": [
        {
          "output_type": "stream",
          "name": "stdout",
          "text": [
            "Loaded 811625 rows from 8 files.\n"
          ]
        },
        {
          "output_type": "stream",
          "name": "stderr",
          "text": [
            "[Parallel(n_jobs=-1)]: Using backend ThreadingBackend with 2 concurrent workers.\n",
            "[Parallel(n_jobs=-1)]: Done  46 tasks      | elapsed:  5.6min\n",
            "[Parallel(n_jobs=-1)]: Done  50 out of  50 | elapsed:  6.1min finished\n",
            "[Parallel(n_jobs=2)]: Using backend ThreadingBackend with 2 concurrent workers.\n",
            "[Parallel(n_jobs=2)]: Done  46 tasks      | elapsed:    4.7s\n",
            "[Parallel(n_jobs=2)]: Done  50 out of  50 | elapsed:    5.1s finished\n"
          ]
        },
        {
          "output_type": "stream",
          "name": "stdout",
          "text": [
            "MAE: 11.43\n",
            "RMSE: 33.34\n"
          ]
        },
        {
          "output_type": "display_data",
          "data": {
            "text/plain": [
              "<Figure size 1000x500 with 1 Axes>"
            ],
            "image/png": "[encoded data removed]"
          },
          "metadata": {}
        }
      ],
      "source": [
        "import os\n",
        "import pandas as pd\n",
        "import numpy as np\n",
        "import matplotlib.pyplot as plt\n",
        "import seaborn as sns\n",
        "from sklearn.model_selection import train_test_split\n",
        "from sklearn.ensemble import RandomForestRegressor\n",
        "from sklearn.metrics import mean_absolute_error, mean_squared_error\n",
        "\n",
        "# Path to uploaded files in Google Colab\n",
        "DATA_PATH = \"/content/\"\n",
        "\n",
        "# Load and merge data\n",
        "def load_data():\n",
        "    files = [f for f in os.listdir(DATA_PATH) if f.endswith(\".csv\") and \"August_2024\" not in f]  # Exclude Aug 24\n",
        "    if not files:\n",
        "        raise FileNotFoundError(\"No CSV files found! Please upload the datasets.\")\n",
        "\n",
        "    data_frames = []\n",
        "    for file in files:\n",
        "        df = pd.read_csv(os.path.join(DATA_PATH, file), usecols=[\n",
        "            \"id\", \"device_name\", \"lat\", \"long\", \"pm_25\", \"pm_10\", \"no2\", \"co\", \"co2\", \"ch4\", \"temp\", \"rh\", \"data_created_time\"\n",
        "        ], low_memory=False)\n",
        "        data_frames.append(df)\n",
        "\n",
        "    df = pd.concat(data_frames, ignore_index=True)\n",
        "    print(f\"Loaded {len(df)} rows from {len(files)} files.\")\n",
        "    return df\n",
        "\n",
        "# Data Preprocessing\n",
        "def preprocess_data(df):\n",
        "    # Convert timestamps to datetime format\n",
        "    df[\"data_created_time\"] = pd.to_datetime(df[\"data_created_time\"], errors=\"coerce\")\n",
        "\n",
        "    # Handle missing values\n",
        "    df.replace(\" \", np.nan, inplace=True)  # Convert empty strings to NaN\n",
        "    df.ffill(inplace=True)  # Forward fill missing values\n",
        "\n",
        "    # Convert numeric columns\n",
        "    num_cols = [\"pm_25\", \"pm_10\", \"no2\", \"co\", \"co2\", \"ch4\", \"temp\", \"rh\"]\n",
        "    df[num_cols] = df[num_cols].apply(pd.to_numeric, errors=\"coerce\")\n",
        "\n",
        "    # Drop remaining NaN values after conversion\n",
        "    df.dropna(subset=num_cols, inplace=True)\n",
        "\n",
        "    return df\n",
        "\n",
        "# Feature Engineering\n",
        "def create_features(df):\n",
        "    df[\"hour\"] = df[\"data_created_time\"].dt.hour\n",
        "    df[\"day_of_week\"] = df[\"data_created_time\"].dt.dayofweek\n",
        "    df[\"month\"] = df[\"data_created_time\"].dt.month\n",
        "    return df\n",
        "\n",
        "# Train a Random Forest model for PM2.5 prediction\n",
        "def train_model(df):\n",
        "    features = [\"lat\", \"long\", \"hour\", \"day_of_week\", \"month\", \"pm_10\", \"no2\", \"co\", \"co2\", \"ch4\", \"temp\", \"rh\"]\n",
        "    target = \"pm_25\"\n",
        "\n",
        "    df = df.dropna(subset=features + [target])  # Ensure no NaN values in training data\n",
        "\n",
        "    X = df[features]\n",
        "    y = df[target]\n",
        "\n",
        "    X_train, X_test, y_train, y_test = train_test_split(X, y, test_size=0.2, random_state=42)\n",
        "\n",
        "    model = RandomForestRegressor(n_estimators=50, n_jobs=-1, random_state=42, verbose=1)  # Optimized model\n",
        "    model.fit(X_train, y_train)\n",
        "\n",
        "    y_pred = model.predict(X_test)\n",
        "\n",
        "    mae = mean_absolute_error(y_test, y_pred)\n",
        "    rmse = np.sqrt(mean_squared_error(y_test, y_pred))  # Manual RMSE calculation\n",
        "\n",
        "    print(f\"MAE: {mae:.2f}\")\n",
        "    print(f\"RMSE: {rmse:.2f}\")\n",
        "\n",
        "    return model\n",
        "\n",
        "# Main Execution\n",
        "if __name__ == \"__main__\":\n",
        "    df = load_data()\n",
        "    df = preprocess_data(df)\n",
        "    df = create_features(df)\n",
        "    model = train_model(df)\n",
        "\n",
        "    # Plot feature importance\n",
        "    feature_importance = pd.Series(model.feature_importances_, index=df[[\"lat\", \"long\", \"hour\", \"day_of_week\", \"month\", \"pm_10\", \"no2\", \"co\", \"co2\", \"ch4\", \"temp\", \"rh\"]].columns)\n",
        "    feature_importance.sort_values().plot(kind=\"barh\", figsize=(10, 5))\n",
        "    plt.title(\"Feature Importance in Predicting PM2.5\")\n",
        "    plt.show()\n"
      ]
    },
    {
      "cell_type": "code",
      "source": [
        "import os\n",
        "import pandas as pd\n",
        "import numpy as np\n",
        "import matplotlib.pyplot as plt\n",
        "import seaborn as sns\n",
        "from sklearn.model_selection import train_test_split, GridSearchCV\n",
        "from sklearn.metrics import mean_absolute_error, mean_squared_error, r2_score\n",
        "from xgboost import XGBRegressor\n",
        "\n",
        "# Load Data\n",
        "def load_all_data(folder_path=\"/content\"):\n",
        "    files = [f for f in os.listdir(folder_path) if f.endswith(\".csv\")]\n",
        "    df_list = [pd.read_csv(os.path.join(folder_path, f)) for f in files]\n",
        "    df = pd.concat(df_list, ignore_index=True)\n",
        "    print(f\"Loaded {df.shape[0]} rows from {len(files)} files.\")\n",
        "    return df\n",
        "\n",
        "# Data Preprocessing & Feature Engineering\n",
        "def preprocess_data(df):\n",
        "    df[\"data_created_time\"] = pd.to_datetime(df[\"data_created_time\"])\n",
        "    df = df.sort_values(\"data_created_time\")\n",
        "    df.fillna(method=\"ffill\", inplace=True)\n",
        "    df[\"hour\"] = df[\"data_created_time\"].dt.hour\n",
        "    df[\"day_of_week\"] = df[\"data_created_time\"].dt.dayofweek\n",
        "    df[\"THI\"] = (0.8 * df[\"temp\"]) + ((df[\"rh\"] / 100) * (df[\"temp\"] - 14.4)) + 46.4\n",
        "    df[\"pm_25_lag_1h\"] = df[\"pm_25\"].shift(1)\n",
        "    df[\"pm_25_lag_3h\"] = df[\"pm_25\"].shift(3)\n",
        "    df[\"pm_25_lag_24h\"] = df[\"pm_25\"].shift(24)\n",
        "    df[\"pm_25_rolling_6h\"] = df[\"pm_25\"].rolling(window=6).mean()\n",
        "    df[\"pm_25_rolling_24h\"] = df[\"pm_25\"].rolling(window=24).mean()\n",
        "    df.dropna(inplace=True)\n",
        "    return df\n",
        "\n",
        "# Train Model with Hyperparameter Tuning\n",
        "def train_model(df):\n",
        "    features = [\"hour\", \"day_of_week\", \"THI\", \"pm_25_lag_1h\", \"pm_25_lag_3h\", \"pm_25_lag_24h\", \"pm_25_rolling_6h\", \"pm_25_rolling_24h\"]\n",
        "    X = df[features]\n",
        "    y = df[\"pm_25\"]\n",
        "    X_train, X_test, y_train, y_test = train_test_split(X, y, test_size=0.2, random_state=42)\n",
        "\n",
        "    xgb = XGBRegressor(objective='reg:squarederror', n_jobs=-1)\n",
        "    param_grid = {\"n_estimators\": [100, 200], \"learning_rate\": [0.01, 0.1], \"max_depth\": [3, 5]}\n",
        "    grid_search = GridSearchCV(xgb, param_grid, cv=3, scoring='neg_mean_absolute_error', n_jobs=-1)\n",
        "    grid_search.fit(X_train, y_train)\n",
        "    best_model = grid_search.best_estimator_\n",
        "    y_pred = best_model.predict(X_test)\n",
        "\n",
        "    print(\"Best Parameters:\", grid_search.best_params_)\n",
        "    print(\"MAE:\", mean_absolute_error(y_test, y_pred))\n",
        "    print(\"RMSE:\", np.sqrt(mean_squared_error(y_test, y_pred)))\n",
        "    print(\"R² Score:\", r2_score(y_test, y_pred))\n",
        "\n",
        "    return best_model, X_train, y_train, X_test, y_test, y_pred\n",
        "\n",
        "# Plot Feature Importance\n",
        "def plot_feature_importance(model, feature_names):\n",
        "    plt.figure(figsize=(10, 5))\n",
        "    sns.barplot(x=model.feature_importances_, y=feature_names)\n",
        "    plt.title(\"Feature Importance\")\n",
        "    plt.show()\n",
        "\n",
        "# Execute Workflow\n",
        "if __name__ == \"__main__\":\n",
        "    df = load_all_data()\n",
        "    df = preprocess_data(df)\n",
        "    model, X_train, y_train, X_test, y_test, y_pred = train_model(df)\n",
        "    plot_feature_importance(model, X_train.columns)\n"
      ],
      "metadata": {
        "colab": {
          "base_uri": "https://localhost:8080/",
          "height": 615
        },
        "id": "5YmkH_whu18g",
        "outputId": "3c946d7e-8e80-4923-b4f7-b17c1e511752"
      },
      "execution_count": null,
      "outputs": [
        {
          "output_type": "stream",
          "name": "stdout",
          "text": [
            "Loaded 811625 rows from 8 files.\n"
          ]
        },
        {
          "output_type": "stream",
          "name": "stderr",
          "text": [
            "<ipython-input-3-afecfa10c3a9>:22: FutureWarning: DataFrame.fillna with 'method' is deprecated and will raise in a future version. Use obj.ffill() or obj.bfill() instead.\n",
            "  df.fillna(method=\"ffill\", inplace=True)\n"
          ]
        },
        {
          "output_type": "stream",
          "name": "stdout",
          "text": [
            "Best Parameters: {'learning_rate': 0.1, 'max_depth': 5, 'n_estimators': 200}\n",
            "MAE: 52.85278243723087\n",
            "RMSE: 100.9035098029067\n",
            "R² Score: 0.8030874197745468\n"
          ]
        },
        {
          "output_type": "display_data",
          "data": {
            "text/plain": [
              "<Figure size 1000x500 with 1 Axes>"
            ],
            "image/png": "[encoded data removed]"
          },
          "metadata": {}
        }
      ]
    },
    {
      "cell_type": "code",
      "source": [],
      "metadata": {
        "id": "ihtGOIcu43xf"
      },
      "execution_count": null,
      "outputs": []
    },
    {
      "cell_type": "code",
      "source": [
        "pip install fastapi uvicorn\n"
      ],
      "metadata": {
        "colab": {
          "base_uri": "https://localhost:8080/"
        },
        "id": "XnGU4OvjqvXP",
        "outputId": "ec12e22d-af6a-46d2-b18b-02e20d5af532"
      },
      "execution_count": null,
      "outputs": [
        {
          "output_type": "stream",
          "name": "stdout",
          "text": [
            "Collecting fastapi\n",
            "  Downloading fastapi-0.115.10-py3-none-any.whl.metadata (27 kB)\n",
            "Collecting uvicorn\n",
            "  Downloading uvicorn-0.34.0-py3-none-any.whl.metadata (6.5 kB)\n",
            "Collecting starlette<0.47.0,>=0.40.0 (from fastapi)\n",
            "  Downloading starlette-0.46.0-py3-none-any.whl.metadata (6.2 kB)\n",
            "Requirement already satisfied: pydantic!=1.8,!=1.8.1,!=2.0.0,!=2.0.1,!=2.1.0,<3.0.0,>=1.7.4 in /usr/local/lib/python3.11/dist-packages (from fastapi) (2.10.6)\n",
            "Requirement already satisfied: typing-extensions>=4.8.0 in /usr/local/lib/python3.11/dist-packages (from fastapi) (4.12.2)\n",
            "Requirement already satisfied: click>=7.0 in /usr/local/lib/python3.11/dist-packages (from uvicorn) (8.1.8)\n",
            "Requirement already satisfied: h11>=0.8 in /usr/local/lib/python3.11/dist-packages (from uvicorn) (0.14.0)\n",
            "Requirement already satisfied: annotated-types>=0.6.0 in /usr/local/lib/python3.11/dist-packages (from pydantic!=1.8,!=1.8.1,!=2.0.0,!=2.0.1,!=2.1.0,<3.0.0,>=1.7.4->fastapi) (0.7.0)\n",
            "Requirement already satisfied: pydantic-core==2.27.2 in /usr/local/lib/python3.11/dist-packages (from pydantic!=1.8,!=1.8.1,!=2.0.0,!=2.0.1,!=2.1.0,<3.0.0,>=1.7.4->fastapi) (2.27.2)\n",
            "Requirement already satisfied: anyio<5,>=3.6.2 in /usr/local/lib/python3.11/dist-packages (from starlette<0.47.0,>=0.40.0->fastapi) (3.7.1)\n",
            "Requirement already satisfied: idna>=2.8 in /usr/local/lib/python3.11/dist-packages (from anyio<5,>=3.6.2->starlette<0.47.0,>=0.40.0->fastapi) (3.10)\n",
            "Requirement already satisfied: sniffio>=1.1 in /usr/local/lib/python3.11/dist-packages (from anyio<5,>=3.6.2->starlette<0.47.0,>=0.40.0->fastapi) (1.3.1)\n",
            "Downloading fastapi-0.115.10-py3-none-any.whl (94 kB)\n",
            "\u001b[2K   \u001b[90m━━━━━━━━━━━━━━━━━━━━━━━━━━━━━━━━━━━━━━━━\u001b[0m \u001b[32m94.9/94.9 kB\u001b[0m \u001b[31m3.6 MB/s\u001b[0m eta \u001b[36m0:00:00\u001b[0m\n",
            "\u001b[?25hDownloading uvicorn-0.34.0-py3-none-any.whl (62 kB)\n",
            "\u001b[2K   \u001b[90m━━━━━━━━━━━━━━━━━━━━━━━━━━━━━━━━━━━━━━━━\u001b[0m \u001b[32m62.3/62.3 kB\u001b[0m \u001b[31m4.5 MB/s\u001b[0m eta \u001b[36m0:00:00\u001b[0m\n",
            "\u001b[?25hDownloading starlette-0.46.0-py3-none-any.whl (71 kB)\n",
            "\u001b[2K   \u001b[90m━━━━━━━━━━━━━━━━━━━━━━━━━━━━━━━━━━━━━━━━\u001b[0m \u001b[32m72.0/72.0 kB\u001b[0m \u001b[31m5.7 MB/s\u001b[0m eta \u001b[36m0:00:00\u001b[0m\n",
            "\u001b[?25hInstalling collected packages: uvicorn, starlette, fastapi\n",
            "Successfully installed fastapi-0.115.10 starlette-0.46.0 uvicorn-0.34.0\n"
          ]
        }
      ]
    },
    {
      "cell_type": "code",
      "source": [
        "pip install streamlit\n"
      ],
      "metadata": {
        "colab": {
          "base_uri": "https://localhost:8080/"
        },
        "id": "RE3UJhtdrBHM",
        "outputId": "9b5de59a-72d1-4ca7-d101-da4d57b8ff82"
      },
      "execution_count": null,
      "outputs": [
        {
          "output_type": "stream",
          "name": "stdout",
          "text": [
            "Collecting streamlit\n",
            "  Downloading streamlit-1.42.2-py2.py3-none-any.whl.metadata (8.9 kB)\n",
            "Requirement already satisfied: altair<6,>=4.0 in /usr/local/lib/python3.11/dist-packages (from streamlit) (5.5.0)\n",
            "Requirement already satisfied: blinker<2,>=1.0.0 in /usr/local/lib/python3.11/dist-packages (from streamlit) (1.9.0)\n",
            "Requirement already satisfied: cachetools<6,>=4.0 in /usr/local/lib/python3.11/dist-packages (from streamlit) (5.5.2)\n",
            "Requirement already satisfied: click<9,>=7.0 in /usr/local/lib/python3.11/dist-packages (from streamlit) (8.1.8)\n",
            "Requirement already satisfied: numpy<3,>=1.23 in /usr/local/lib/python3.11/dist-packages (from streamlit) (1.26.4)\n",
            "Requirement already satisfied: packaging<25,>=20 in /usr/local/lib/python3.11/dist-packages (from streamlit) (24.2)\n",
            "Requirement already satisfied: pandas<3,>=1.4.0 in /usr/local/lib/python3.11/dist-packages (from streamlit) (2.2.2)\n",
            "Requirement already satisfied: pillow<12,>=7.1.0 in /usr/local/lib/python3.11/dist-packages (from streamlit) (11.1.0)\n",
            "Requirement already satisfied: protobuf<6,>=3.20 in /usr/local/lib/python3.11/dist-packages (from streamlit) (4.25.6)\n",
            "Requirement already satisfied: pyarrow>=7.0 in /usr/local/lib/python3.11/dist-packages (from streamlit) (18.1.0)\n",
            "Requirement already satisfied: requests<3,>=2.27 in /usr/local/lib/python3.11/dist-packages (from streamlit) (2.32.3)\n",
            "Requirement already satisfied: rich<14,>=10.14.0 in /usr/local/lib/python3.11/dist-packages (from streamlit) (13.9.4)\n",
            "Requirement already satisfied: tenacity<10,>=8.1.0 in /usr/local/lib/python3.11/dist-packages (from streamlit) (9.0.0)\n",
            "Requirement already satisfied: toml<2,>=0.10.1 in /usr/local/lib/python3.11/dist-packages (from streamlit) (0.10.2)\n",
            "Requirement already satisfied: typing-extensions<5,>=4.4.0 in /usr/local/lib/python3.11/dist-packages (from streamlit) (4.12.2)\n",
            "Collecting watchdog<7,>=2.1.5 (from streamlit)\n",
            "  Downloading watchdog-6.0.0-py3-none-manylinux2014_x86_64.whl.metadata (44 kB)\n",
            "\u001b[2K     \u001b[90m━━━━━━━━━━━━━━━━━━━━━━━━━━━━━━━━━━━━━━━━\u001b[0m \u001b[32m44.3/44.3 kB\u001b[0m \u001b[31m1.5 MB/s\u001b[0m eta \u001b[36m0:00:00\u001b[0m\n",
            "\u001b[?25hRequirement already satisfied: gitpython!=3.1.19,<4,>=3.0.7 in /usr/local/lib/python3.11/dist-packages (from streamlit) (3.1.44)\n",
            "Collecting pydeck<1,>=0.8.0b4 (from streamlit)\n",
            "  Downloading pydeck-0.9.1-py2.py3-none-any.whl.metadata (4.1 kB)\n",
            "Requirement already satisfied: tornado<7,>=6.0.3 in /usr/local/lib/python3.11/dist-packages (from streamlit) (6.4.2)\n",
            "Requirement already satisfied: jinja2 in /usr/local/lib/python3.11/dist-packages (from altair<6,>=4.0->streamlit) (3.1.5)\n",
            "Requirement already satisfied: jsonschema>=3.0 in /usr/local/lib/python3.11/dist-packages (from altair<6,>=4.0->streamlit) (4.23.0)\n",
            "Requirement already satisfied: narwhals>=1.14.2 in /usr/local/lib/python3.11/dist-packages (from altair<6,>=4.0->streamlit) (1.28.0)\n",
            "Requirement already satisfied: gitdb<5,>=4.0.1 in /usr/local/lib/python3.11/dist-packages (from gitpython!=3.1.19,<4,>=3.0.7->streamlit) (4.0.12)\n",
            "Requirement already satisfied: python-dateutil>=2.8.2 in /usr/local/lib/python3.11/dist-packages (from pandas<3,>=1.4.0->streamlit) (2.8.2)\n",
            "Requirement already satisfied: pytz>=2020.1 in /usr/local/lib/python3.11/dist-packages (from pandas<3,>=1.4.0->streamlit) (2025.1)\n",
            "Requirement already satisfied: tzdata>=2022.7 in /usr/local/lib/python3.11/dist-packages (from pandas<3,>=1.4.0->streamlit) (2025.1)\n",
            "Requirement already satisfied: charset-normalizer<4,>=2 in /usr/local/lib/python3.11/dist-packages (from requests<3,>=2.27->streamlit) (3.4.1)\n",
            "Requirement already satisfied: idna<4,>=2.5 in /usr/local/lib/python3.11/dist-packages (from requests<3,>=2.27->streamlit) (3.10)\n",
            "Requirement already satisfied: urllib3<3,>=1.21.1 in /usr/local/lib/python3.11/dist-packages (from requests<3,>=2.27->streamlit) (2.3.0)\n",
            "Requirement already satisfied: certifi>=2017.4.17 in /usr/local/lib/python3.11/dist-packages (from requests<3,>=2.27->streamlit) (2025.1.31)\n",
            "Requirement already satisfied: markdown-it-py>=2.2.0 in /usr/local/lib/python3.11/dist-packages (from rich<14,>=10.14.0->streamlit) (3.0.0)\n",
            "Requirement already satisfied: pygments<3.0.0,>=2.13.0 in /usr/local/lib/python3.11/dist-packages (from rich<14,>=10.14.0->streamlit) (2.18.0)\n",
            "Requirement already satisfied: smmap<6,>=3.0.1 in /usr/local/lib/python3.11/dist-packages (from gitdb<5,>=4.0.1->gitpython!=3.1.19,<4,>=3.0.7->streamlit) (5.0.2)\n",
            "Requirement already satisfied: MarkupSafe>=2.0 in /usr/local/lib/python3.11/dist-packages (from jinja2->altair<6,>=4.0->streamlit) (3.0.2)\n",
            "Requirement already satisfied: attrs>=22.2.0 in /usr/local/lib/python3.11/dist-packages (from jsonschema>=3.0->altair<6,>=4.0->streamlit) (25.1.0)\n",
            "Requirement already satisfied: jsonschema-specifications>=2023.03.6 in /usr/local/lib/python3.11/dist-packages (from jsonschema>=3.0->altair<6,>=4.0->streamlit) (2024.10.1)\n",
            "Requirement already satisfied: referencing>=0.28.4 in /usr/local/lib/python3.11/dist-packages (from jsonschema>=3.0->altair<6,>=4.0->streamlit) (0.36.2)\n",
            "Requirement already satisfied: rpds-py>=0.7.1 in /usr/local/lib/python3.11/dist-packages (from jsonschema>=3.0->altair<6,>=4.0->streamlit) (0.23.1)\n",
            "Requirement already satisfied: mdurl~=0.1 in /usr/local/lib/python3.11/dist-packages (from markdown-it-py>=2.2.0->rich<14,>=10.14.0->streamlit) (0.1.2)\n",
            "Requirement already satisfied: six>=1.5 in /usr/local/lib/python3.11/dist-packages (from python-dateutil>=2.8.2->pandas<3,>=1.4.0->streamlit) (1.17.0)\n",
            "Downloading streamlit-1.42.2-py2.py3-none-any.whl (9.6 MB)\n",
            "\u001b[2K   \u001b[90m━━━━━━━━━━━━━━━━━━━━━━━━━━━━━━━━━━━━━━━━\u001b[0m \u001b[32m9.6/9.6 MB\u001b[0m \u001b[31m66.8 MB/s\u001b[0m eta \u001b[36m0:00:00\u001b[0m\n",
            "\u001b[?25hDownloading pydeck-0.9.1-py2.py3-none-any.whl (6.9 MB)\n",
            "\u001b[2K   \u001b[90m━━━━━━━━━━━━━━━━━━━━━━━━━━━━━━━━━━━━━━━━\u001b[0m \u001b[32m6.9/6.9 MB\u001b[0m \u001b[31m103.3 MB/s\u001b[0m eta \u001b[36m0:00:00\u001b[0m\n",
            "\u001b[?25hDownloading watchdog-6.0.0-py3-none-manylinux2014_x86_64.whl (79 kB)\n",
            "\u001b[2K   \u001b[90m━━━━━━━━━━━━━━━━━━━━━━━━━━━━━━━━━━━━━━━━\u001b[0m \u001b[32m79.1/79.1 kB\u001b[0m \u001b[31m5.8 MB/s\u001b[0m eta \u001b[36m0:00:00\u001b[0m\n",
            "\u001b[?25hInstalling collected packages: watchdog, pydeck, streamlit\n",
            "Successfully installed pydeck-0.9.1 streamlit-1.42.2 watchdog-6.0.0\n"
          ]
        }
      ]
    },
    {
      "cell_type": "code",
      "source": [
        "import os\n",
        "os.system(\"streamlit run app.py\")\n"
      ],
      "metadata": {
        "colab": {
          "base_uri": "https://localhost:8080/"
        },
        "id": "ASJEFt2PrdLa",
        "outputId": "1409aa92-1e0b-41b6-da24-499838e1198e"
      },
      "execution_count": null,
      "outputs": [
        {
          "output_type": "execute_result",
          "data": {
            "text/plain": [
              "512"
            ]
          },
          "metadata": {},
          "execution_count": 11
        }
      ]
    },
    {
      "cell_type": "code",
      "source": [
        "import streamlit as st\n",
        "import pandas as pd\n",
        "import plotly.express as px\n",
        "\n",
        "# Title of the Dashboard\n",
        "st.title(\"📊 Air Quality Analysis Dashboard\")\n",
        "\n",
        "# File Upload Section\n",
        "uploaded_files = st.file_uploader(\"Upload multiple Excel files\", type=[\"xls\", \"xlsx\"], accept_multiple_files=True)\n",
        "\n",
        "if uploaded_files:\n",
        "    # Load and merge all Excel files\n",
        "    df_list = []\n",
        "    for file in uploaded_files:\n",
        "        df = pd.read_excel(file)  # Read each Excel file\n",
        "        df_list.append(df)\n",
        "\n",
        "    # Merge all files into a single DataFrame\n",
        "    df = pd.concat(df_list, ignore_index=True)\n",
        "\n",
        "    # Data Preprocessing\n",
        "    df[\"data_created_time\"] = pd.to_datetime(df[\"data_created_time\"])  # Convert timestamp column\n",
        "    df = df.sort_values(\"data_created_time\")  # Sort by time\n",
        "\n",
        "    # Display the raw merged dataset\n",
        "    st.write(\"### Merged Dataset\", df.head())\n",
        "\n",
        "    # Visualization - Time Series Plot\n",
        "    fig = px.line(df, x=\"data_created_time\", y=\"pm_25\", title=\"PM2.5 Levels Over Time\")\n",
        "    st.plotly_chart(fig)\n",
        "\n",
        "    # Additional Statistics\n",
        "    st.write(\"### Air Quality Summary\")\n",
        "    st.write(df.describe())\n",
        "\n",
        "else:\n",
        "    st.info(\"📂 Please upload Excel files to analyze air quality data.\")\n",
        "\n"
      ],
      "metadata": {
        "colab": {
          "base_uri": "https://localhost:8080/"
        },
        "id": "RHEhLS1dsq3o",
        "outputId": "219ef468-6d70-4f21-a55c-ca64537d7caf"
      },
      "execution_count": null,
      "outputs": [
        {
          "output_type": "stream",
          "name": "stderr",
          "text": [
            "2025-03-01 12:33:42.387 Thread 'MainThread': missing ScriptRunContext! This warning can be ignored when running in bare mode.\n",
            "2025-03-01 12:33:42.389 Thread 'MainThread': missing ScriptRunContext! This warning can be ignored when running in bare mode.\n",
            "2025-03-01 12:33:42.391 Thread 'MainThread': missing ScriptRunContext! This warning can be ignored when running in bare mode.\n",
            "2025-03-01 12:33:42.392 Thread 'MainThread': missing ScriptRunContext! This warning can be ignored when running in bare mode.\n",
            "2025-03-01 12:33:42.398 Thread 'MainThread': missing ScriptRunContext! This warning can be ignored when running in bare mode.\n",
            "2025-03-01 12:33:42.402 Thread 'MainThread': missing ScriptRunContext! This warning can be ignored when running in bare mode.\n",
            "2025-03-01 12:33:42.403 Thread 'MainThread': missing ScriptRunContext! This warning can be ignored when running in bare mode.\n",
            "2025-03-01 12:33:42.404 Thread 'MainThread': missing ScriptRunContext! This warning can be ignored when running in bare mode.\n",
            "2025-03-01 12:33:42.407 Thread 'MainThread': missing ScriptRunContext! This warning can be ignored when running in bare mode.\n"
          ]
        }
      ]
    },
    {
      "cell_type": "code",
      "source": [
        "pip show streamlit\n"
      ],
      "metadata": {
        "colab": {
          "base_uri": "https://localhost:8080/"
        },
        "id": "IUwrYNu3sz6t",
        "outputId": "d4be66c4-ba7c-4fdc-be46-29d58cfb4a43"
      },
      "execution_count": null,
      "outputs": [
        {
          "output_type": "stream",
          "name": "stdout",
          "text": [
            "Name: streamlit\n",
            "Version: 1.42.2\n",
            "Summary: A faster way to build and share data apps\n",
            "Home-page: https://streamlit.io\n",
            "Author: Snowflake Inc\n",
            "Author-email: hello@streamlit.io\n",
            "License: Apache License 2.0\n",
            "Location: /usr/local/lib/python3.11/dist-packages\n",
            "Requires: altair, blinker, cachetools, click, gitpython, numpy, packaging, pandas, pillow, protobuf, pyarrow, pydeck, requests, rich, tenacity, toml, tornado, typing-extensions, watchdog\n",
            "Required-by: \n"
          ]
        }
      ]
    },
    {
      "cell_type": "code",
      "source": [
        "pip install streamlit\n"
      ],
      "metadata": {
        "colab": {
          "base_uri": "https://localhost:8080/"
        },
        "id": "yufW2XrVs_Gt",
        "outputId": "ce22406b-06b4-40ee-8168-ac019f13f2d3"
      },
      "execution_count": null,
      "outputs": [
        {
          "output_type": "stream",
          "name": "stdout",
          "text": [
            "Requirement already satisfied: streamlit in /usr/local/lib/python3.11/dist-packages (1.42.2)\n",
            "Requirement already satisfied: altair<6,>=4.0 in /usr/local/lib/python3.11/dist-packages (from streamlit) (5.5.0)\n",
            "Requirement already satisfied: blinker<2,>=1.0.0 in /usr/local/lib/python3.11/dist-packages (from streamlit) (1.9.0)\n",
            "Requirement already satisfied: cachetools<6,>=4.0 in /usr/local/lib/python3.11/dist-packages (from streamlit) (5.5.2)\n",
            "Requirement already satisfied: click<9,>=7.0 in /usr/local/lib/python3.11/dist-packages (from streamlit) (8.1.8)\n",
            "Requirement already satisfied: numpy<3,>=1.23 in /usr/local/lib/python3.11/dist-packages (from streamlit) (1.26.4)\n",
            "Requirement already satisfied: packaging<25,>=20 in /usr/local/lib/python3.11/dist-packages (from streamlit) (24.2)\n",
            "Requirement already satisfied: pandas<3,>=1.4.0 in /usr/local/lib/python3.11/dist-packages (from streamlit) (2.2.2)\n",
            "Requirement already satisfied: pillow<12,>=7.1.0 in /usr/local/lib/python3.11/dist-packages (from streamlit) (11.1.0)\n",
            "Requirement already satisfied: protobuf<6,>=3.20 in /usr/local/lib/python3.11/dist-packages (from streamlit) (4.25.6)\n",
            "Requirement already satisfied: pyarrow>=7.0 in /usr/local/lib/python3.11/dist-packages (from streamlit) (18.1.0)\n",
            "Requirement already satisfied: requests<3,>=2.27 in /usr/local/lib/python3.11/dist-packages (from streamlit) (2.32.3)\n",
            "Requirement already satisfied: rich<14,>=10.14.0 in /usr/local/lib/python3.11/dist-packages (from streamlit) (13.9.4)\n",
            "Requirement already satisfied: tenacity<10,>=8.1.0 in /usr/local/lib/python3.11/dist-packages (from streamlit) (9.0.0)\n",
            "Requirement already satisfied: toml<2,>=0.10.1 in /usr/local/lib/python3.11/dist-packages (from streamlit) (0.10.2)\n",
            "Requirement already satisfied: typing-extensions<5,>=4.4.0 in /usr/local/lib/python3.11/dist-packages (from streamlit) (4.12.2)\n",
            "Requirement already satisfied: watchdog<7,>=2.1.5 in /usr/local/lib/python3.11/dist-packages (from streamlit) (6.0.0)\n",
            "Requirement already satisfied: gitpython!=3.1.19,<4,>=3.0.7 in /usr/local/lib/python3.11/dist-packages (from streamlit) (3.1.44)\n",
            "Requirement already satisfied: pydeck<1,>=0.8.0b4 in /usr/local/lib/python3.11/dist-packages (from streamlit) (0.9.1)\n",
            "Requirement already satisfied: tornado<7,>=6.0.3 in /usr/local/lib/python3.11/dist-packages (from streamlit) (6.4.2)\n",
            "Requirement already satisfied: jinja2 in /usr/local/lib/python3.11/dist-packages (from altair<6,>=4.0->streamlit) (3.1.5)\n",
            "Requirement already satisfied: jsonschema>=3.0 in /usr/local/lib/python3.11/dist-packages (from altair<6,>=4.0->streamlit) (4.23.0)\n",
            "Requirement already satisfied: narwhals>=1.14.2 in /usr/local/lib/python3.11/dist-packages (from altair<6,>=4.0->streamlit) (1.28.0)\n",
            "Requirement already satisfied: gitdb<5,>=4.0.1 in /usr/local/lib/python3.11/dist-packages (from gitpython!=3.1.19,<4,>=3.0.7->streamlit) (4.0.12)\n",
            "Requirement already satisfied: python-dateutil>=2.8.2 in /usr/local/lib/python3.11/dist-packages (from pandas<3,>=1.4.0->streamlit) (2.8.2)\n",
            "Requirement already satisfied: pytz>=2020.1 in /usr/local/lib/python3.11/dist-packages (from pandas<3,>=1.4.0->streamlit) (2025.1)\n",
            "Requirement already satisfied: tzdata>=2022.7 in /usr/local/lib/python3.11/dist-packages (from pandas<3,>=1.4.0->streamlit) (2025.1)\n",
            "Requirement already satisfied: charset-normalizer<4,>=2 in /usr/local/lib/python3.11/dist-packages (from requests<3,>=2.27->streamlit) (3.4.1)\n",
            "Requirement already satisfied: idna<4,>=2.5 in /usr/local/lib/python3.11/dist-packages (from requests<3,>=2.27->streamlit) (3.10)\n",
            "Requirement already satisfied: urllib3<3,>=1.21.1 in /usr/local/lib/python3.11/dist-packages (from requests<3,>=2.27->streamlit) (2.3.0)\n",
            "Requirement already satisfied: certifi>=2017.4.17 in /usr/local/lib/python3.11/dist-packages (from requests<3,>=2.27->streamlit) (2025.1.31)\n",
            "Requirement already satisfied: markdown-it-py>=2.2.0 in /usr/local/lib/python3.11/dist-packages (from rich<14,>=10.14.0->streamlit) (3.0.0)\n",
            "Requirement already satisfied: pygments<3.0.0,>=2.13.0 in /usr/local/lib/python3.11/dist-packages (from rich<14,>=10.14.0->streamlit) (2.18.0)\n",
            "Requirement already satisfied: smmap<6,>=3.0.1 in /usr/local/lib/python3.11/dist-packages (from gitdb<5,>=4.0.1->gitpython!=3.1.19,<4,>=3.0.7->streamlit) (5.0.2)\n",
            "Requirement already satisfied: MarkupSafe>=2.0 in /usr/local/lib/python3.11/dist-packages (from jinja2->altair<6,>=4.0->streamlit) (3.0.2)\n",
            "Requirement already satisfied: attrs>=22.2.0 in /usr/local/lib/python3.11/dist-packages (from jsonschema>=3.0->altair<6,>=4.0->streamlit) (25.1.0)\n",
            "Requirement already satisfied: jsonschema-specifications>=2023.03.6 in /usr/local/lib/python3.11/dist-packages (from jsonschema>=3.0->altair<6,>=4.0->streamlit) (2024.10.1)\n",
            "Requirement already satisfied: referencing>=0.28.4 in /usr/local/lib/python3.11/dist-packages (from jsonschema>=3.0->altair<6,>=4.0->streamlit) (0.36.2)\n",
            "Requirement already satisfied: rpds-py>=0.7.1 in /usr/local/lib/python3.11/dist-packages (from jsonschema>=3.0->altair<6,>=4.0->streamlit) (0.23.1)\n",
            "Requirement already satisfied: mdurl~=0.1 in /usr/local/lib/python3.11/dist-packages (from markdown-it-py>=2.2.0->rich<14,>=10.14.0->streamlit) (0.1.2)\n",
            "Requirement already satisfied: six>=1.5 in /usr/local/lib/python3.11/dist-packages (from python-dateutil>=2.8.2->pandas<3,>=1.4.0->streamlit) (1.17.0)\n"
          ]
        }
      ]
    },
    {
      "cell_type": "code",
      "source": [
        "import pandas as pd\n",
        "import streamlit as st\n",
        "import plotly.express as px\n",
        "import os\n",
        "\n",
        "# Install dependencies\n",
        "!pip install streamlit localtunnel\n",
        "\n",
        "# Function to load multiple uploaded files\n",
        "def load_data(files):\n",
        "    dataframes = []\n",
        "    for file in files:\n",
        "        df = pd.read_excel(file)\n",
        "        dataframes.append(df)\n",
        "    return pd.concat(dataframes, ignore_index=True)\n",
        "\n",
        "# Streamlit App\n",
        "st.title(\"📊 Air Quality Dashboard\")\n",
        "\n",
        "# File uploader\n",
        "uploaded_files = st.file_uploader(\"Upload your Excel files\", type=[\"xls\", \"xlsx\"], accept_multiple_files=True)\n",
        "\n",
        "if uploaded_files:\n",
        "    df = load_data(uploaded_files)\n",
        "    st.write(\"### Preview of Uploaded Data\")\n",
        "    st.dataframe(df.head())\n",
        "\n",
        "    # Select pollutant\n",
        "    pollutant = st.selectbox(\"Select Pollutant to Visualize\", df.columns)\n",
        "\n",
        "    # Plot time-series data\n",
        "    fig = px.line(df, x=df.columns[0], y=pollutant, title=f\"{pollutant} Trends\")\n",
        "    st.plotly_chart(fig)\n",
        "\n",
        "# Run Streamlit in Colab\n",
        "if \"streamlit_app.py\" not in os.listdir():\n",
        "    with open(\"streamlit_app.py\", \"w\") as f:\n",
        "        f.write(\"import streamlit as st\\n\")\n",
        "!streamlit run streamlit_app.py & npx localtunnel --port 8501"
      ],
      "metadata": {
        "colab": {
          "base_uri": "https://localhost:8080/"
        },
        "id": "5jVoh-N_tFKs",
        "outputId": "3e9cbf85-c27c-4759-aff5-7487b1174db1"
      },
      "execution_count": null,
      "outputs": [
        {
          "output_type": "stream",
          "name": "stdout",
          "text": [
            "Requirement already satisfied: streamlit in /usr/local/lib/python3.11/dist-packages (1.42.2)\n",
            "\u001b[31mERROR: Could not find a version that satisfies the requirement localtunnel (from versions: none)\u001b[0m\u001b[31m\n",
            "\u001b[0m\u001b[31mERROR: No matching distribution found for localtunnel\u001b[0m\u001b[31m\n",
            "\u001b[0m"
          ]
        },
        {
          "output_type": "stream",
          "name": "stderr",
          "text": [
            "2025-03-01 12:53:37.865 Thread 'MainThread': missing ScriptRunContext! This warning can be ignored when running in bare mode.\n",
            "2025-03-01 12:53:37.869 Thread 'MainThread': missing ScriptRunContext! This warning can be ignored when running in bare mode.\n",
            "2025-03-01 12:53:37.871 Thread 'MainThread': missing ScriptRunContext! This warning can be ignored when running in bare mode.\n",
            "2025-03-01 12:53:37.873 Thread 'MainThread': missing ScriptRunContext! This warning can be ignored when running in bare mode.\n",
            "2025-03-01 12:53:37.873 Thread 'MainThread': missing ScriptRunContext! This warning can be ignored when running in bare mode.\n",
            "2025-03-01 12:53:37.874 Thread 'MainThread': missing ScriptRunContext! This warning can be ignored when running in bare mode.\n",
            "2025-03-01 12:53:37.875 Thread 'MainThread': missing ScriptRunContext! This warning can be ignored when running in bare mode.\n"
          ]
        },
        {
          "output_type": "stream",
          "name": "stdout",
          "text": [
            "\n",
            "Collecting usage statistics. To deactivate, set browser.gatherUsageStats to false.\n",
            "\u001b[0m\n",
            "\u001b[0m\n",
            "\u001b[34m\u001b[1m  You can now view your Streamlit app in your browser.\u001b[0m\n",
            "\u001b[0m\n",
            "\u001b[34m  Local URL: \u001b[0m\u001b[1mhttp://localhost:8501\u001b[0m\n",
            "\u001b[34m  Network URL: \u001b[0m\u001b[1mhttp://172.28.0.12:8501\u001b[0m\n",
            "\u001b[34m  External URL: \u001b[0m\u001b[1mhttp://34.75.195.151:8501\u001b[0m\n",
            "\u001b[0m\n",
            "\u001b[34m  Stopping...\u001b[0m\n",
            "^C\n"
          ]
        }
      ]
    },
    {
      "cell_type": "code",
      "source": [
        "!pip install dash pandas plotly flask-ngrok\n",
        "\n"
      ],
      "metadata": {
        "colab": {
          "base_uri": "https://localhost:8080/"
        },
        "id": "t6EFv_BXxRUr",
        "outputId": "2e8ce820-5a16-4a4b-eef4-bd07b5c1d32f"
      },
      "execution_count": null,
      "outputs": [
        {
          "output_type": "stream",
          "name": "stdout",
          "text": [
            "Collecting dash\n",
            "  Downloading dash-2.18.2-py3-none-any.whl.metadata (10 kB)\n",
            "Requirement already satisfied: pandas in /usr/local/lib/python3.11/dist-packages (2.2.2)\n",
            "Requirement already satisfied: plotly in /usr/local/lib/python3.11/dist-packages (5.24.1)\n",
            "Collecting flask-ngrok\n",
            "  Downloading flask_ngrok-0.0.25-py3-none-any.whl.metadata (1.8 kB)\n",
            "Collecting Flask<3.1,>=1.0.4 (from dash)\n",
            "  Downloading flask-3.0.3-py3-none-any.whl.metadata (3.2 kB)\n",
            "Collecting Werkzeug<3.1 (from dash)\n",
            "  Downloading werkzeug-3.0.6-py3-none-any.whl.metadata (3.7 kB)\n",
            "Collecting dash-html-components==2.0.0 (from dash)\n",
            "  Downloading dash_html_components-2.0.0-py3-none-any.whl.metadata (3.8 kB)\n",
            "Collecting dash-core-components==2.0.0 (from dash)\n",
            "  Downloading dash_core_components-2.0.0-py3-none-any.whl.metadata (2.9 kB)\n",
            "Collecting dash-table==5.0.0 (from dash)\n",
            "  Downloading dash_table-5.0.0-py3-none-any.whl.metadata (2.4 kB)\n",
            "Requirement already satisfied: importlib-metadata in /usr/local/lib/python3.11/dist-packages (from dash) (8.6.1)\n",
            "Requirement already satisfied: typing-extensions>=4.1.1 in /usr/local/lib/python3.11/dist-packages (from dash) (4.12.2)\n",
            "Requirement already satisfied: requests in /usr/local/lib/python3.11/dist-packages (from dash) (2.32.3)\n",
            "Collecting retrying (from dash)\n",
            "  Downloading retrying-1.3.4-py3-none-any.whl.metadata (6.9 kB)\n",
            "Requirement already satisfied: nest-asyncio in /usr/local/lib/python3.11/dist-packages (from dash) (1.6.0)\n",
            "Requirement already satisfied: setuptools in /usr/local/lib/python3.11/dist-packages (from dash) (75.1.0)\n",
            "Requirement already satisfied: numpy>=1.23.2 in /usr/local/lib/python3.11/dist-packages (from pandas) (1.26.4)\n",
            "Requirement already satisfied: python-dateutil>=2.8.2 in /usr/local/lib/python3.11/dist-packages (from pandas) (2.8.2)\n",
            "Requirement already satisfied: pytz>=2020.1 in /usr/local/lib/python3.11/dist-packages (from pandas) (2025.1)\n",
            "Requirement already satisfied: tzdata>=2022.7 in /usr/local/lib/python3.11/dist-packages (from pandas) (2025.1)\n",
            "Requirement already satisfied: tenacity>=6.2.0 in /usr/local/lib/python3.11/dist-packages (from plotly) (9.0.0)\n",
            "Requirement already satisfied: packaging in /usr/local/lib/python3.11/dist-packages (from plotly) (24.2)\n",
            "Requirement already satisfied: Jinja2>=3.1.2 in /usr/local/lib/python3.11/dist-packages (from Flask<3.1,>=1.0.4->dash) (3.1.5)\n",
            "Requirement already satisfied: itsdangerous>=2.1.2 in /usr/local/lib/python3.11/dist-packages (from Flask<3.1,>=1.0.4->dash) (2.2.0)\n",
            "Requirement already satisfied: click>=8.1.3 in /usr/local/lib/python3.11/dist-packages (from Flask<3.1,>=1.0.4->dash) (8.1.8)\n",
            "Requirement already satisfied: blinker>=1.6.2 in /usr/local/lib/python3.11/dist-packages (from Flask<3.1,>=1.0.4->dash) (1.9.0)\n",
            "Requirement already satisfied: six>=1.5 in /usr/local/lib/python3.11/dist-packages (from python-dateutil>=2.8.2->pandas) (1.17.0)\n",
            "Requirement already satisfied: MarkupSafe>=2.1.1 in /usr/local/lib/python3.11/dist-packages (from Werkzeug<3.1->dash) (3.0.2)\n",
            "Requirement already satisfied: zipp>=3.20 in /usr/local/lib/python3.11/dist-packages (from importlib-metadata->dash) (3.21.0)\n",
            "Requirement already satisfied: charset-normalizer<4,>=2 in /usr/local/lib/python3.11/dist-packages (from requests->dash) (3.4.1)\n",
            "Requirement already satisfied: idna<4,>=2.5 in /usr/local/lib/python3.11/dist-packages (from requests->dash) (3.10)\n",
            "Requirement already satisfied: urllib3<3,>=1.21.1 in /usr/local/lib/python3.11/dist-packages (from requests->dash) (2.3.0)\n",
            "Requirement already satisfied: certifi>=2017.4.17 in /usr/local/lib/python3.11/dist-packages (from requests->dash) (2025.1.31)\n",
            "Downloading dash-2.18.2-py3-none-any.whl (7.8 MB)\n",
            "\u001b[2K   \u001b[90m━━━━━━━━━━━━━━━━━━━━━━━━━━━━━━━━━━━━━━━━\u001b[0m \u001b[32m7.8/7.8 MB\u001b[0m \u001b[31m23.7 MB/s\u001b[0m eta \u001b[36m0:00:00\u001b[0m\n",
            "\u001b[?25hDownloading dash_core_components-2.0.0-py3-none-any.whl (3.8 kB)\n",
            "Downloading dash_html_components-2.0.0-py3-none-any.whl (4.1 kB)\n",
            "Downloading dash_table-5.0.0-py3-none-any.whl (3.9 kB)\n",
            "Downloading flask_ngrok-0.0.25-py3-none-any.whl (3.1 kB)\n",
            "Downloading flask-3.0.3-py3-none-any.whl (101 kB)\n",
            "\u001b[2K   \u001b[90m━━━━━━━━━━━━━━━━━━━━━━━━━━━━━━━━━━━━━━━━\u001b[0m \u001b[32m101.7/101.7 kB\u001b[0m \u001b[31m6.7 MB/s\u001b[0m eta \u001b[36m0:00:00\u001b[0m\n",
            "\u001b[?25hDownloading werkzeug-3.0.6-py3-none-any.whl (227 kB)\n",
            "\u001b[2K   \u001b[90m━━━━━━━━━━━━━━━━━━━━━━━━━━━━━━━━━━━━━━━━\u001b[0m \u001b[32m228.0/228.0 kB\u001b[0m \u001b[31m12.9 MB/s\u001b[0m eta \u001b[36m0:00:00\u001b[0m\n",
            "\u001b[?25hDownloading retrying-1.3.4-py3-none-any.whl (11 kB)\n",
            "Installing collected packages: dash-table, dash-html-components, dash-core-components, Werkzeug, retrying, Flask, flask-ngrok, dash\n",
            "  Attempting uninstall: Werkzeug\n",
            "    Found existing installation: Werkzeug 3.1.3\n",
            "    Uninstalling Werkzeug-3.1.3:\n",
            "      Successfully uninstalled Werkzeug-3.1.3\n",
            "  Attempting uninstall: Flask\n",
            "    Found existing installation: Flask 3.1.0\n",
            "    Uninstalling Flask-3.1.0:\n",
            "      Successfully uninstalled Flask-3.1.0\n",
            "Successfully installed Flask-3.0.3 Werkzeug-3.0.6 dash-2.18.2 dash-core-components-2.0.0 dash-html-components-2.0.0 dash-table-5.0.0 flask-ngrok-0.0.25 retrying-1.3.4\n"
          ]
        }
      ]
    },
    {
      "cell_type": "code",
      "source": [
        "import os\n",
        "import pandas as pd\n",
        "import numpy as np\n",
        "import dash\n",
        "from dash import dcc, html\n",
        "import plotly.express as px\n",
        "from flask_ngrok import run_with_ngrok\n",
        "from dash.dependencies import Input, Output\n",
        "from sklearn.model_selection import train_test_split\n",
        "from xgboost import XGBRegressor\n",
        "from google.colab import files\n",
        "\n",
        "# 📌 Function to Upload Files at Runtime if Needed\n",
        "def upload_files_if_needed():\n",
        "    folder_path = \"/content\"\n",
        "    files_list = [f for f in os.listdir(folder_path) if f.endswith((\".csv\", \".xlsx\"))]\n",
        "\n",
        "    if not files_list:\n",
        "        print(\"No CSV or Excel files found! Please upload them now.\")\n",
        "        uploaded = files.upload()  # Ask user to upload files\n",
        "        print(\"Files uploaded:\", list(uploaded.keys()))\n",
        "\n",
        "upload_files_if_needed()  # Ensure files are uploaded\n",
        "\n",
        "# 📌 Load Data from CSV/Excel Files\n",
        "def load_air_quality_data():\n",
        "    folder_path = \"/content\"\n",
        "    files_list = [f for f in os.listdir(folder_path) if f.endswith((\".csv\", \".xlsx\"))]\n",
        "\n",
        "    if not files_list:\n",
        "        print(\"No files found even after upload. Please check and retry.\")\n",
        "        return pd.DataFrame()\n",
        "\n",
        "    df_list = []\n",
        "    for f in files_list:\n",
        "        file_path = os.path.join(folder_path, f)\n",
        "        if f.endswith(\".csv\"):\n",
        "            df_list.append(pd.read_csv(file_path))  # Load CSV\n",
        "        elif f.endswith(\".xlsx\"):\n",
        "            df_list.append(pd.read_excel(file_path))  # Load Excel\n",
        "\n",
        "    df = pd.concat(df_list, ignore_index=True)\n",
        "\n",
        "    # 📌 Debugging: Print available columns\n",
        "    print(\"Available columns in dataset:\", df.columns.tolist())\n",
        "\n",
        "    # 📌 Ensure required columns exist\n",
        "    required_columns = [\"data_created_time\", \"pm_25\"]\n",
        "    missing_columns = [col for col in required_columns if col not in df.columns]\n",
        "\n",
        "    if missing_columns:\n",
        "        print(f\"❌ Error: Missing columns: {missing_columns}. Please check your files.\")\n",
        "        return pd.DataFrame()\n",
        "\n",
        "    # 📌 Convert datetime & sort\n",
        "    df[\"data_created_time\"] = pd.to_datetime(df[\"data_created_time\"], errors=\"coerce\")\n",
        "    df = df.sort_values(\"data_created_time\")\n",
        "\n",
        "    # 📌 Feature Engineering\n",
        "    df.fillna(method=\"ffill\", inplace=True)\n",
        "    df[\"hour\"] = df[\"data_created_time\"].dt.hour\n",
        "    df[\"day_of_week\"] = df[\"data_created_time\"].dt.dayofweek\n",
        "\n",
        "    return df\n",
        "\n",
        "df = load_air_quality_data()\n",
        "\n",
        "if df.empty:\n",
        "    print(\"Exiting script as no data was loaded.\")\n",
        "else:\n",
        "    print(f\"✅ Loaded {df.shape[0]} rows from {len(os.listdir('/content'))} files.\")\n",
        "\n",
        "# 📌 Train XGBoost Model if Data is Valid\n",
        "if \"pm_25\" in df.columns:\n",
        "    features = [\"hour\", \"day_of_week\"]\n",
        "    X = df[features]\n",
        "    y = df[\"pm_25\"]\n",
        "    X_train, X_test, y_train, y_test = train_test_split(X, y, test_size=0.2, random_state=42)\n",
        "    model = XGBRegressor(n_estimators=100, objective=\"reg:squarederror\")\n",
        "    model.fit(X_train, y_train)\n",
        "\n",
        "    # 📌 Make Predictions\n",
        "    df[\"predicted_pm_25\"] = model.predict(X)\n",
        "\n",
        "    # 📌 Initialize Dash App\n",
        "    app = dash.Dash(__name__)\n",
        "    run_with_ngrok(app)  # Run in Colab\n",
        "\n",
        "    # 📌 Dashboard Layout\n",
        "    app.layout = html.Div([\n",
        "        html.H1(\"📊 Air Quality Prediction Dashboard\"),\n",
        "\n",
        "        dcc.Graph(id=\"pm25-trend\", figure=px.line(df, x=\"data_created_time\", y=[\"pm_25\", \"predicted_pm_25\"],\n",
        "                                                   title=\"PM2.5 Levels & Predictions\")),\n",
        "\n",
        "        dcc.Graph(id=\"feature-importance\", figure=px.bar(x=features, y=model.feature_importances_,\n",
        "                                                         title=\"Feature Importance\")),\n",
        "    ])\n",
        "\n",
        "    # 📌 Run the Dash App\n",
        "    if __name__ == \"__main__\":\n",
        "        app.run_server()\n",
        "else:\n",
        "    print(\"❌ Error: 'pm_25' column not found in the dataset. Please check your files.\")\n"
      ],
      "metadata": {
        "colab": {
          "base_uri": "https://localhost:8080/",
          "height": 763
        },
        "id": "pRW29wNkxWNK",
        "outputId": "b4a356d1-680d-4e09-fb6f-a75990bd30ad"
      },
      "execution_count": null,
      "outputs": [
        {
          "output_type": "stream",
          "name": "stdout",
          "text": [
            "Available columns in dataset: ['id', 'device_name', 'lat', 'long', 'pm_25', 'pm_10', 'no2', 'co', 'co2', 'ch4', 'temp', 'rh', 'data_created_time']\n"
          ]
        },
        {
          "output_type": "stream",
          "name": "stderr",
          "text": [
            "<ipython-input-27-e2f6a115eaee>:60: FutureWarning: DataFrame.fillna with 'method' is deprecated and will raise in a future version. Use obj.ffill() or obj.bfill() instead.\n",
            "  df.fillna(method=\"ffill\", inplace=True)\n"
          ]
        },
        {
          "output_type": "stream",
          "name": "stdout",
          "text": [
            "✅ Loaded 1623250 rows from 19 files.\n"
          ]
        },
        {
          "output_type": "display_data",
          "data": {
            "text/plain": [
              "<IPython.core.display.Javascript object>"
            ],
            "application/javascript": [
              "(async (port, path, width, height, cache, element) => {\n",
              "    if (!google.colab.kernel.accessAllowed && !cache) {\n",
              "      return;\n",
              "    }\n",
              "    element.appendChild(document.createTextNode(''));\n",
              "    const url = await google.colab.kernel.proxyPort(port, {cache});\n",
              "    const iframe = document.createElement('iframe');\n",
              "    iframe.src = new URL(path, url).toString();\n",
              "    iframe.height = height;\n",
              "    iframe.width = width;\n",
              "    iframe.style.border = 0;\n",
              "    iframe.allow = [\n",
              "        'accelerometer',\n",
              "        'autoplay',\n",
              "        'camera',\n",
              "        'clipboard-read',\n",
              "        'clipboard-write',\n",
              "        'gyroscope',\n",
              "        'magnetometer',\n",
              "        'microphone',\n",
              "        'serial',\n",
              "        'usb',\n",
              "        'xr-spatial-tracking',\n",
              "    ].join('; ');\n",
              "    element.appendChild(iframe);\n",
              "  })(8050, \"/\", \"100%\", 650, false, window.element)"
            ]
          },
          "metadata": {}
        }
      ]
    },
    {
      "cell_type": "code",
      "source": [
        "import os\n",
        "import pandas as pd\n",
        "import numpy as np\n",
        "import dash\n",
        "from dash import dcc, html\n",
        "import plotly.graph_objects as go\n",
        "import plotly.express as px\n",
        "from flask_ngrok import run_with_ngrok\n",
        "from dash.dependencies import Input, Output\n",
        "from sklearn.model_selection import train_test_split\n",
        "from xgboost import XGBRegressor\n",
        "from google.colab import files\n",
        "\n",
        "# 📌 Function to Upload Files if Needed\n",
        "def upload_files_if_needed():\n",
        "    folder_path = \"/content\"\n",
        "    files_list = [f for f in os.listdir(folder_path) if f.endswith((\".csv\", \".xlsx\"))]\n",
        "\n",
        "    if not files_list:\n",
        "        print(\"No CSV or Excel files found! Please upload them now.\")\n",
        "        uploaded = files.upload()\n",
        "        print(\"Files uploaded:\", list(uploaded.keys()))\n",
        "\n",
        "upload_files_if_needed()\n",
        "\n",
        "# 📌 Load Data from CSV/Excel Files\n",
        "def load_air_quality_data():\n",
        "    folder_path = \"/content\"\n",
        "    files_list = [f for f in os.listdir(folder_path) if f.endswith((\".csv\", \".xlsx\"))]\n",
        "\n",
        "    if not files_list:\n",
        "        print(\"No files found even after upload. Please check and retry.\")\n",
        "        return pd.DataFrame()\n",
        "\n",
        "    df_list = []\n",
        "    for f in files_list:\n",
        "        file_path = os.path.join(folder_path, f)\n",
        "        if f.endswith(\".csv\"):\n",
        "            df_list.append(pd.read_csv(file_path))\n",
        "        elif f.endswith(\".xlsx\"):\n",
        "            df_list.append(pd.read_excel(file_path))\n",
        "\n",
        "    df = pd.concat(df_list, ignore_index=True)\n",
        "    print(\"Available columns in dataset:\", df.columns.tolist())\n",
        "\n",
        "    required_columns = [\"data_created_time\", \"pm_25\"]\n",
        "    missing_columns = [col for col in required_columns if col not in df.columns]\n",
        "\n",
        "    if missing_columns:\n",
        "        print(f\"❌ Error: Missing columns: {missing_columns}. Please check your files.\")\n",
        "        return pd.DataFrame()\n",
        "\n",
        "    df[\"data_created_time\"] = pd.to_datetime(df[\"data_created_time\"], errors=\"coerce\")\n",
        "    df = df.sort_values(\"data_created_time\")\n",
        "\n",
        "    df.fillna(method=\"ffill\", inplace=True)\n",
        "    df[\"hour\"] = df[\"data_created_time\"].dt.hour\n",
        "    df[\"day_of_week\"] = df[\"data_created_time\"].dt.dayofweek\n",
        "\n",
        "    return df\n",
        "\n",
        "df = load_air_quality_data()\n",
        "\n",
        "if df.empty:\n",
        "    print(\"Exiting script as no data was loaded.\")\n",
        "else:\n",
        "    print(f\"✅ Loaded {df.shape[0]} rows.\")\n",
        "\n",
        "# 📌 Train XGBoost Model if Data is Valid\n",
        "if \"pm_25\" in df.columns:\n",
        "    features = [\"hour\", \"day_of_week\"]\n",
        "    X = df[features]\n",
        "    y = df[\"pm_25\"]\n",
        "    X_train, X_test, y_train, y_test = train_test_split(X, y, test_size=0.2, random_state=42)\n",
        "    model = XGBRegressor(n_estimators=150, learning_rate=0.05, max_depth=5, objective=\"reg:squarederror\")\n",
        "    model.fit(X_train, y_train)\n",
        "\n",
        "    df[\"predicted_pm_25\"] = model.predict(X)\n",
        "\n",
        "    # 📌 Initialize Dash App\n",
        "    app = dash.Dash(__name__)\n",
        "    run_with_ngrok(app)\n",
        "\n",
        "    # 📌 3D Scatter Plot for PM2.5 Trends\n",
        "    scatter_3d = go.Figure()\n",
        "    scatter_3d.add_trace(go.Scatter3d(\n",
        "        x=df[\"hour\"], y=df[\"day_of_week\"], z=df[\"pm_25\"],\n",
        "        mode=\"markers\",\n",
        "        marker=dict(size=5, color=df[\"pm_25\"], colorscale=\"Viridis\", opacity=0.8),\n",
        "    ))\n",
        "    scatter_3d.update_layout(title=\"🌏 3D Scatter Plot of PM2.5 Levels\",\n",
        "                             scene=dict(xaxis_title=\"Hour of Day\",\n",
        "                                        yaxis_title=\"Day of Week\",\n",
        "                                        zaxis_title=\"PM2.5 Level\"))\n",
        "\n",
        "    # 📌 3D Surface Plot of PM2.5 Predictions\n",
        "    surface_3d = go.Figure(data=[go.Surface(\n",
        "        z=df.pivot_table(index=\"day_of_week\", columns=\"hour\", values=\"predicted_pm_25\").values,\n",
        "        colorscale=\"Jet\")])\n",
        "    surface_3d.update_layout(title=\"🛰️ 3D Surface of Predicted PM2.5 Levels\",\n",
        "                             scene=dict(xaxis_title=\"Hour\", yaxis_title=\"Day of Week\", zaxis_title=\"PM2.5 Prediction\"))\n",
        "\n",
        "    # 📌 Heatmap of Pollution Levels\n",
        "    heatmap = px.imshow(df.pivot_table(index=\"day_of_week\", columns=\"hour\", values=\"pm_25\"),\n",
        "                        labels={\"color\": \"PM2.5 Level\"},\n",
        "                        color_continuous_scale=\"Turbo\",\n",
        "                        title=\"🔥 Heatmap of PM2.5 Pollution Trends\")\n",
        "\n",
        "    # 📌 Feature Importance Bar Chart\n",
        "    feature_importance = px.bar(x=features, y=model.feature_importances_,\n",
        "                                title=\"🔎 Feature Importance in Prediction Model\",\n",
        "                                color=model.feature_importances_,\n",
        "                                color_continuous_scale=\"Bluered\")\n",
        "\n",
        "    # 📌 Dashboard Layout\n",
        "    app.layout = html.Div(style={\"backgroundColor\": \"#f7f7f7\", \"fontFamily\": \"Arial\"}, children=[\n",
        "        html.H1(\"📊 Advanced Air Quality Dashboard\", style={\"textAlign\": \"center\", \"color\": \"#333\"}),\n",
        "\n",
        "        html.Div([\n",
        "            dcc.Graph(figure=scatter_3d),  # 3D Scatter Plot\n",
        "            dcc.Graph(figure=surface_3d),  # 3D Surface Plot\n",
        "        ], style={\"display\": \"flex\", \"flexWrap\": \"wrap\"}),\n",
        "\n",
        "        dcc.Graph(figure=heatmap),  # Heatmap\n",
        "\n",
        "        dcc.Graph(figure=feature_importance),  # Feature Importance Chart\n",
        "    ])\n",
        "\n",
        "    if __name__ == \"__main__\":\n",
        "        app.run_server()\n",
        "else:\n",
        "    print(\"❌ Error: 'pm_25' column not found in the dataset. Please check your files.\")\n"
      ],
      "metadata": {
        "colab": {
          "base_uri": "https://localhost:8080/",
          "height": 763
        },
        "id": "vyEWj_1C17UH",
        "outputId": "30ff47c1-1b24-49c5-abc3-60d18ebc5dc1"
      },
      "execution_count": 1,
      "outputs": [
        {
          "metadata": {
            "tags": null
          },
          "name": "stdout",
          "output_type": "stream",
          "text": [
            "Available columns in dataset: ['id', 'device_name', 'lat', 'long', 'pm_25', 'pm_10', 'no2', 'co', 'co2', 'ch4', 'temp', 'rh', 'data_created_time']\n"
          ]
        },
        {
          "metadata": {
            "tags": null
          },
          "name": "stderr",
          "output_type": "stream",
          "text": [
            "<ipython-input-1-e35389683b44>:56: FutureWarning: DataFrame.fillna with 'method' is deprecated and will raise in a future version. Use obj.ffill() or obj.bfill() instead.\n",
            "  df.fillna(method=\"ffill\", inplace=True)\n"
          ]
        },
        {
          "metadata": {
            "tags": null
          },
          "name": "stdout",
          "output_type": "stream",
          "text": [
            "✅ Loaded 1623250 rows.\n"
          ]
        },
        {
          "output_type": "display_data",
          "data": {
            "text/plain": [
              "<IPython.core.display.Javascript object>"
            ],
            "application/javascript": [
              "(async (port, path, width, height, cache, element) => {\n",
              "    if (!google.colab.kernel.accessAllowed && !cache) {\n",
              "      return;\n",
              "    }\n",
              "    element.appendChild(document.createTextNode(''));\n",
              "    const url = await google.colab.kernel.proxyPort(port, {cache});\n",
              "    const iframe = document.createElement('iframe');\n",
              "    iframe.src = new URL(path, url).toString();\n",
              "    iframe.height = height;\n",
              "    iframe.width = width;\n",
              "    iframe.style.border = 0;\n",
              "    iframe.allow = [\n",
              "        'accelerometer',\n",
              "        'autoplay',\n",
              "        'camera',\n",
              "        'clipboard-read',\n",
              "        'clipboard-write',\n",
              "        'gyroscope',\n",
              "        'magnetometer',\n",
              "        'microphone',\n",
              "        'serial',\n",
              "        'usb',\n",
              "        'xr-spatial-tracking',\n",
              "    ].join('; ');\n",
              "    element.appendChild(iframe);\n",
              "  })(8050, \"/\", \"100%\", 650, false, window.element)"
            ]
          },
          "metadata": {}
        }
      ]
    },
    {
      "cell_type": "code",
      "source": [
        "import os\n",
        "import pandas as pd\n",
        "import numpy as np\n",
        "import dash\n",
        "from dash import dcc, html\n",
        "import plotly.express as px\n",
        "from flask_ngrok import run_with_ngrok\n",
        "from dash.dependencies import Input, Output\n",
        "from sklearn.model_selection import train_test_split\n",
        "from xgboost import XGBRegressor\n",
        "from google.colab import files\n",
        "\n",
        "# 📌 Function to Upload Files at Runtime if Needed\n",
        "def upload_files_if_needed():\n",
        "    folder_path = \"/content\"\n",
        "    files_list = [f for f in os.listdir(folder_path) if f.endswith((\".csv\", \".xlsx\"))]\n",
        "\n",
        "    if not files_list:\n",
        "        print(\"No CSV or Excel files found! Please upload them now.\")\n",
        "        uploaded = files.upload()  # Ask user to upload files\n",
        "        print(\"Files uploaded:\", list(uploaded.keys()))\n",
        "\n",
        "upload_files_if_needed()  # Ensure files are uploaded\n",
        "\n",
        "# 📌 Load Data from CSV/Excel Files\n",
        "def load_air_quality_data():\n",
        "    folder_path = \"/content\"\n",
        "    files_list = [f for f in os.listdir(folder_path) if f.endswith((\".csv\", \".xlsx\"))]\n",
        "\n",
        "    if not files_list:\n",
        "        print(\"No files found even after upload. Please check and retry.\")\n",
        "        return pd.DataFrame()\n",
        "\n",
        "    df_list = []\n",
        "    for f in files_list:\n",
        "        file_path = os.path.join(folder_path, f)\n",
        "        if f.endswith(\".csv\"):\n",
        "            df_list.append(pd.read_csv(file_path))  # Load CSV\n",
        "        elif f.endswith(\".xlsx\"):\n",
        "            df_list.append(pd.read_excel(file_path))  # Load Excel\n",
        "\n",
        "    df = pd.concat(df_list, ignore_index=True)\n",
        "\n",
        "    # 📌 Debugging: Print available columns\n",
        "    print(\"Available columns in dataset:\", df.columns.tolist())\n",
        "\n",
        "    # 📌 Ensure required columns exist\n",
        "    required_columns = [\"data_created_time\", \"pm_25\"]\n",
        "    missing_columns = [col for col in required_columns if col not in df.columns]\n",
        "\n",
        "    if missing_columns:\n",
        "        print(f\"❌ Error: Missing columns: {missing_columns}. Please check your files.\")\n",
        "        return pd.DataFrame()\n",
        "\n",
        "    # 📌 Convert datetime & sort\n",
        "    df[\"data_created_time\"] = pd.to_datetime(df[\"data_created_time\"], errors=\"coerce\")\n",
        "    df = df.sort_values(\"data_created_time\")\n",
        "\n",
        "    # 📌 Feature Engineering\n",
        "    df.fillna(method=\"ffill\", inplace=True)\n",
        "    df[\"hour\"] = df[\"data_created_time\"].dt.hour\n",
        "    df[\"day_of_week\"] = df[\"data_created_time\"].dt.dayofweek\n",
        "\n",
        "    return df\n",
        "\n",
        "df = load_air_quality_data()\n",
        "\n",
        "if df.empty:\n",
        "    print(\"Exiting script as no data was loaded.\")\n",
        "else:\n",
        "    print(f\"✅ Loaded {df.shape[0]} rows from {len(os.listdir('/content'))} files.\")\n",
        "\n",
        "# 📌 Train XGBoost Model if Data is Valid\n",
        "if \"pm_25\" in df.columns:\n",
        "    features = [\"hour\", \"day_of_week\"]\n",
        "    X = df[features]\n",
        "    y = df[\"pm_25\"]\n",
        "    X_train, X_test, y_train, y_test = train_test_split(X, y, test_size=0.2, random_state=42)\n",
        "    model = XGBRegressor(n_estimators=100, objective=\"reg:squarederror\")\n",
        "    model.fit(X_train, y_train)\n",
        "\n",
        "    # 📌 Make Predictions\n",
        "    df[\"predicted_pm_25\"] = model.predict(X)\n",
        "\n",
        "    # 📌 Initialize Dash App\n",
        "    app = dash.Dash(__name__)\n",
        "    run_with_ngrok(app)  # Run in Colab\n",
        "\n",
        "    # 📌 Dashboard Layout\n",
        "    app.layout = html.Div([\n",
        "        html.H1(\"📊 Air Quality Prediction Dashboard\"),\n",
        "\n",
        "        dcc.Graph(id=\"pm25-trend\", figure=px.line(df, x=\"data_created_time\", y=[\"pm_25\", \"predicted_pm_25\"],\n",
        "                                                   title=\"PM2.5 Levels & Predictions\")),\n",
        "\n",
        "        dcc.Graph(id=\"feature-importance\", figure=px.bar(x=features, y=model.feature_importances_,\n",
        "                                                         title=\"Feature Importance\")),\n",
        "    ])\n",
        "\n",
        "    # 📌 Run the Dash App\n",
        "    if __name__ == \"__main__\":\n",
        "        app.run_server()\n",
        "else:\n",
        "    print(\"❌ Error: 'pm_25' column not found in the dataset. Please check your files.\")\n"
      ],
      "metadata": {
        "colab": {
          "base_uri": "https://localhost:8080/",
          "height": 780
        },
        "id": "jearJKvI45z1",
        "outputId": "89ee78a9-5446-4617-c69f-2d1b4d48639f"
      },
      "execution_count": 2,
      "outputs": [
        {
          "output_type": "stream",
          "name": "stdout",
          "text": [
            "Available columns in dataset: ['id', 'device_name', 'lat', 'long', 'pm_25', 'pm_10', 'no2', 'co', 'co2', 'ch4', 'temp', 'rh', 'data_created_time']\n"
          ]
        },
        {
          "output_type": "stream",
          "name": "stderr",
          "text": [
            "<ipython-input-2-e2f6a115eaee>:60: FutureWarning:\n",
            "\n",
            "DataFrame.fillna with 'method' is deprecated and will raise in a future version. Use obj.ffill() or obj.bfill() instead.\n",
            "\n"
          ]
        },
        {
          "output_type": "stream",
          "name": "stdout",
          "text": [
            "✅ Loaded 1623250 rows from 19 files.\n"
          ]
        },
        {
          "output_type": "display_data",
          "data": {
            "text/plain": [
              "<IPython.core.display.Javascript object>"
            ],
            "application/javascript": [
              "(async (port, path, width, height, cache, element) => {\n",
              "    if (!google.colab.kernel.accessAllowed && !cache) {\n",
              "      return;\n",
              "    }\n",
              "    element.appendChild(document.createTextNode(''));\n",
              "    const url = await google.colab.kernel.proxyPort(port, {cache});\n",
              "    const iframe = document.createElement('iframe');\n",
              "    iframe.src = new URL(path, url).toString();\n",
              "    iframe.height = height;\n",
              "    iframe.width = width;\n",
              "    iframe.style.border = 0;\n",
              "    iframe.allow = [\n",
              "        'accelerometer',\n",
              "        'autoplay',\n",
              "        'camera',\n",
              "        'clipboard-read',\n",
              "        'clipboard-write',\n",
              "        'gyroscope',\n",
              "        'magnetometer',\n",
              "        'microphone',\n",
              "        'serial',\n",
              "        'usb',\n",
              "        'xr-spatial-tracking',\n",
              "    ].join('; ');\n",
              "    element.appendChild(iframe);\n",
              "  })(8050, \"/\", \"100%\", 650, false, window.element)"
            ]
          },
          "metadata": {}
        }
      ]
    }
  ]
}